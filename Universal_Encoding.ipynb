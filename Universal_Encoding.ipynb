{
  "nbformat": 4,
  "nbformat_minor": 0,
  "metadata": {
    "colab": {
      "name": "Universal Encoding.ipynb",
      "provenance": [],
      "collapsed_sections": [],
      "authorship_tag": "ABX9TyNcozlzmeDwZbdIsvrQYT9S",
      "include_colab_link": true
    },
    "kernelspec": {
      "name": "python3",
      "display_name": "Python 3"
    }
  },
  "cells": [
    {
      "cell_type": "markdown",
      "metadata": {
        "id": "view-in-github",
        "colab_type": "text"
      },
      "source": [
        "<a href=\"https://colab.research.google.com/github/pa1tech/anveshak/blob/master/Universal_Encoding.ipynb\" target=\"_parent\"><img src=\"https://colab.research.google.com/assets/colab-badge.svg\" alt=\"Open In Colab\"/></a>"
      ]
    },
    {
      "cell_type": "code",
      "metadata": {
        "id": "r7_mq-nLkmNo",
        "colab_type": "code",
        "colab": {
          "base_uri": "https://localhost:8080/",
          "height": 122
        },
        "outputId": "2ef499f6-5438-43dd-aa2d-ae927f9fe6f2"
      },
      "source": [
        "#Importing necesssary modules\n",
        "from pylab import *\n",
        "import pandas as pd\n",
        "import pickle\n",
        "\n",
        "from sklearn.model_selection import train_test_split \n",
        "from sklearn.linear_model import LogisticRegression\n",
        "from sklearn.ensemble import RandomForestClassifier, AdaBoostClassifier\n",
        "from sklearn.metrics import confusion_matrix\n",
        "\n",
        "#Universal encoding library\n",
        "import tensorflow as tf\n",
        "import tensorflow_hub as hub\n",
        "embed = hub.load(\"https://tfhub.dev/google/universal-sentence-encoder/4\")\n",
        "\n",
        "#Data location prefix\n",
        "from google.colab import drive\n",
        "drive.mount('/content/drive')\n",
        "prefix = '/content/drive/My Drive/EE5180/Project/'"
      ],
      "execution_count": 1,
      "outputs": [
        {
          "output_type": "stream",
          "text": [
            "Go to this URL in a browser: https://accounts.google.com/o/oauth2/auth?client_id=947318989803-6bn6qk8qdgf4n4g3pfee6491hc0brc4i.apps.googleusercontent.com&redirect_uri=urn%3aietf%3awg%3aoauth%3a2.0%3aoob&response_type=code&scope=email%20https%3a%2f%2fwww.googleapis.com%2fauth%2fdocs.test%20https%3a%2f%2fwww.googleapis.com%2fauth%2fdrive%20https%3a%2f%2fwww.googleapis.com%2fauth%2fdrive.photos.readonly%20https%3a%2f%2fwww.googleapis.com%2fauth%2fpeopleapi.readonly\n",
            "\n",
            "Enter your authorization code:\n",
            "··········\n",
            "Mounted at /content/drive\n"
          ],
          "name": "stdout"
        }
      ]
    },
    {
      "cell_type": "code",
      "metadata": {
        "id": "EfOg4Fgn_xmy",
        "colab_type": "code",
        "colab": {
          "base_uri": "https://localhost:8080/",
          "height": 419
        },
        "outputId": "e0b7ca62-6d01-41c2-b3e0-ba08b4f6671f"
      },
      "source": [
        "data = pd.read_csv(prefix + \"questions.csv\")\n",
        "data.sort_values(by=['is_duplicate'], inplace=True)\n",
        "data = data.drop(['id','qid1','qid2'],axis=1)\n",
        "data = data.reset_index(drop=True)\n",
        "\n",
        "(unique, counts) = np.unique(data.is_duplicate, return_counts=True)\n",
        "n = max(counts)\n",
        "dataArray = column_stack(( data.question1[n-125000:n+125000], data.question2[n-125000:n+125000], data.is_duplicate[n-125000:n+125000]))\n",
        "\n",
        "data.head(-5)"
      ],
      "execution_count": 72,
      "outputs": [
        {
          "output_type": "execute_result",
          "data": {
            "text/html": [
              "<div>\n",
              "<style scoped>\n",
              "    .dataframe tbody tr th:only-of-type {\n",
              "        vertical-align: middle;\n",
              "    }\n",
              "\n",
              "    .dataframe tbody tr th {\n",
              "        vertical-align: top;\n",
              "    }\n",
              "\n",
              "    .dataframe thead th {\n",
              "        text-align: right;\n",
              "    }\n",
              "</style>\n",
              "<table border=\"1\" class=\"dataframe\">\n",
              "  <thead>\n",
              "    <tr style=\"text-align: right;\">\n",
              "      <th></th>\n",
              "      <th>question1</th>\n",
              "      <th>question2</th>\n",
              "      <th>is_duplicate</th>\n",
              "    </tr>\n",
              "  </thead>\n",
              "  <tbody>\n",
              "    <tr>\n",
              "      <th>0</th>\n",
              "      <td>What is the step by step guide to invest in sh...</td>\n",
              "      <td>What is the step by step guide to invest in sh...</td>\n",
              "      <td>0</td>\n",
              "    </tr>\n",
              "    <tr>\n",
              "      <th>1</th>\n",
              "      <td>What is Isolated earthing on ships?</td>\n",
              "      <td>What are some good career directions for a com...</td>\n",
              "      <td>0</td>\n",
              "    </tr>\n",
              "    <tr>\n",
              "      <th>2</th>\n",
              "      <td>Nike Secret Tournament (Scorpion KO): was it s...</td>\n",
              "      <td>Which is better: Nike or Under Armour?</td>\n",
              "      <td>0</td>\n",
              "    </tr>\n",
              "    <tr>\n",
              "      <th>3</th>\n",
              "      <td>What is the eligibility criteria to sit in cam...</td>\n",
              "      <td>What is the eligibility criteria to sit in cam...</td>\n",
              "      <td>0</td>\n",
              "    </tr>\n",
              "    <tr>\n",
              "      <th>4</th>\n",
              "      <td>What are some good ways to introduce our scave...</td>\n",
              "      <td>What is it like to live in a sorority house?</td>\n",
              "      <td>0</td>\n",
              "    </tr>\n",
              "    <tr>\n",
              "      <th>...</th>\n",
              "      <td>...</td>\n",
              "      <td>...</td>\n",
              "      <td>...</td>\n",
              "    </tr>\n",
              "    <tr>\n",
              "      <th>404341</th>\n",
              "      <td>In what way do you think the reservation syste...</td>\n",
              "      <td>Is there any way to abolish caste based reserv...</td>\n",
              "      <td>1</td>\n",
              "    </tr>\n",
              "    <tr>\n",
              "      <th>404342</th>\n",
              "      <td>Why is Australia not considered an Island?</td>\n",
              "      <td>Why is Australia considered a continent and no...</td>\n",
              "      <td>1</td>\n",
              "    </tr>\n",
              "    <tr>\n",
              "      <th>404343</th>\n",
              "      <td>What best new products or inventions don’t mos...</td>\n",
              "      <td>What are the best new products tools or invent...</td>\n",
              "      <td>1</td>\n",
              "    </tr>\n",
              "    <tr>\n",
              "      <th>404344</th>\n",
              "      <td>Which is the best way to prepare for SSC CGL a...</td>\n",
              "      <td>How do I crack the SSC CGL exam without coaching?</td>\n",
              "      <td>1</td>\n",
              "    </tr>\n",
              "    <tr>\n",
              "      <th>404345</th>\n",
              "      <td>What are the pros and cons of verbal communica...</td>\n",
              "      <td>What are the pros of verbal communication? Wha...</td>\n",
              "      <td>1</td>\n",
              "    </tr>\n",
              "  </tbody>\n",
              "</table>\n",
              "<p>404346 rows × 3 columns</p>\n",
              "</div>"
            ],
            "text/plain": [
              "                                                question1  ... is_duplicate\n",
              "0       What is the step by step guide to invest in sh...  ...            0\n",
              "1                     What is Isolated earthing on ships?  ...            0\n",
              "2       Nike Secret Tournament (Scorpion KO): was it s...  ...            0\n",
              "3       What is the eligibility criteria to sit in cam...  ...            0\n",
              "4       What are some good ways to introduce our scave...  ...            0\n",
              "...                                                   ...  ...          ...\n",
              "404341  In what way do you think the reservation syste...  ...            1\n",
              "404342         Why is Australia not considered an Island?  ...            1\n",
              "404343  What best new products or inventions don’t mos...  ...            1\n",
              "404344  Which is the best way to prepare for SSC CGL a...  ...            1\n",
              "404345  What are the pros and cons of verbal communica...  ...            1\n",
              "\n",
              "[404346 rows x 3 columns]"
            ]
          },
          "metadata": {
            "tags": []
          },
          "execution_count": 72
        }
      ]
    },
    {
      "cell_type": "code",
      "metadata": {
        "id": "D0ihrOVE-PO7",
        "colab_type": "code",
        "colab": {
          "base_uri": "https://localhost:8080/",
          "height": 51
        },
        "outputId": "6f18d36c-3b2b-462d-a33d-e7b554010eee"
      },
      "source": [
        "train_data, test_data = train_test_split(dataArray, test_size= 0.2)\n",
        "(unique, counts) = np.unique(train_data[:,2], return_counts=True)\n",
        "n = np.min(counts)\n",
        "print(counts)\n",
        "\n",
        "(unique, counts) = np.unique(test_data[:,2], return_counts=True)\n",
        "n = np.min(counts)\n",
        "print(counts)\n"
      ],
      "execution_count": 74,
      "outputs": [
        {
          "output_type": "stream",
          "text": [
            "[ 99930 100070]\n",
            "[25070 24930]\n"
          ],
          "name": "stdout"
        }
      ]
    },
    {
      "cell_type": "markdown",
      "metadata": {
        "id": "dHEed0J5n6mW",
        "colab_type": "text"
      },
      "source": [
        "# Universal encoding"
      ]
    },
    {
      "cell_type": "code",
      "metadata": {
        "id": "x6vUtloRmjAr",
        "colab_type": "code",
        "colab": {}
      },
      "source": [
        "#Preprocessiong\n",
        "vectorData_train = []; labels_train = []\n",
        "for w in train_data:\n",
        "  try:\n",
        "    embeddings = embed(w[:2])\n",
        "    emdeddings = concatenate( (array(embeddings[0]),array(embeddings[1])) ) #Cocatenating embeddings of two sentences\n",
        "    vectorData_train.append(emdeddings) \n",
        "    labels_train.append(w[2])\n",
        "  except :\n",
        "    pass\n",
        "vectorData_train = array(vectorData_train)\n",
        "labels_train = array(labels_train)\n",
        "labels_train = labels_train*2 - ones(len(labels_train))\n",
        "\n",
        "vectorData_test = []; labels_test = []\n",
        "for w in test_data:\n",
        "  try:\n",
        "    embeddings = embed(w[:2])\n",
        "    emdeddings = concatenate((array(embeddings[0]),array(embeddings[1])))\n",
        "    vectorData_test.append(emdeddings) \n",
        "    labels_test.append(w[2])\n",
        "  except:\n",
        "    pass\n",
        "vectorData_test = array(vectorData_test)\n",
        "labels_test = array(labels_test)\n",
        "labels_test = labels_test*2 - ones(len(labels_test))"
      ],
      "execution_count": 75,
      "outputs": []
    },
    {
      "cell_type": "code",
      "metadata": {
        "id": "0HvLbuc1QYNP",
        "colab_type": "code",
        "colab": {
          "base_uri": "https://localhost:8080/",
          "height": 51
        },
        "outputId": "a60c7240-d65c-4eaf-c6ce-7ee8aaecf45b"
      },
      "source": [
        "print( 'Size of train data:'+ str(len(vectorData_train)))\n",
        "print( 'Size of test data:'+ str(len(vectorData_test)) )"
      ],
      "execution_count": 76,
      "outputs": [
        {
          "output_type": "stream",
          "text": [
            "Size of train data:199999\n",
            "Size of test data:50000\n"
          ],
          "name": "stdout"
        }
      ]
    },
    {
      "cell_type": "markdown",
      "metadata": {
        "id": "BZj3HgmO6bYf",
        "colab_type": "text"
      },
      "source": [
        "## Logistic Regression"
      ]
    },
    {
      "cell_type": "code",
      "metadata": {
        "id": "QVSU0w-itMTl",
        "colab_type": "code",
        "colab": {
          "base_uri": "https://localhost:8080/",
          "height": 51
        },
        "outputId": "1322db31-414b-4dc5-ccf7-927b791923c5"
      },
      "source": [
        "#Logistic Regression\n",
        "lreg = LogisticRegression(max_iter=1000).fit(vectorData_train, labels_train)\n",
        "train = lreg.score(vectorData_train, labels_train)\n",
        "test = lreg.score(vectorData_test, labels_test)\n",
        "\n",
        "print( 'Train accuracy: '+ str(100*train) + '%')\n",
        "print( 'Test accuracy: '+ str(100*test) + '%')"
      ],
      "execution_count": 84,
      "outputs": [
        {
          "output_type": "stream",
          "text": [
            "Train accuracy: 70.56335281676408%\n",
            "Test accuracy: 70.054%\n"
          ],
          "name": "stdout"
        }
      ]
    },
    {
      "cell_type": "code",
      "metadata": {
        "id": "se3PzIJlROKp",
        "colab_type": "code",
        "colab": {}
      },
      "source": [
        "#Saving model\n",
        "Pkl_Filename = prefix+\"UnivEnc_LogReg_Model.pkl\"  \n",
        "\n",
        "with open(Pkl_Filename, 'wb') as file:  \n",
        "    pickle.dump(reg, file)"
      ],
      "execution_count": 85,
      "outputs": []
    },
    {
      "cell_type": "markdown",
      "metadata": {
        "id": "1ZyPcf-h6FUz",
        "colab_type": "text"
      },
      "source": [
        "## Random Forest"
      ]
    },
    {
      "cell_type": "code",
      "metadata": {
        "id": "hh9AjFG7umHt",
        "colab_type": "code",
        "colab": {
          "base_uri": "https://localhost:8080/",
          "height": 51
        },
        "outputId": "078f1a72-e7be-4691-ff16-c77e095c3310"
      },
      "source": [
        "#Random forest\n",
        "reg = RandomForestClassifier(max_depth = 20,random_state=0).fit(vectorData_train, labels_train)\n",
        "train = reg.score(vectorData_train, labels_train)\n",
        "test = reg.score(vectorData_test, labels_test)\n",
        "\n",
        "print( 'Train accuracy: '+ str(100*train) + '%')\n",
        "print( 'Test accuracy: '+ str(100*test) + '%')"
      ],
      "execution_count": 78,
      "outputs": [
        {
          "output_type": "stream",
          "text": [
            "Train accuracy: 99.43949719748598%\n",
            "Test accuracy: 77.96600000000001%\n"
          ],
          "name": "stdout"
        }
      ]
    },
    {
      "cell_type": "code",
      "metadata": {
        "id": "PF-xSQPrRcon",
        "colab_type": "code",
        "colab": {}
      },
      "source": [
        "#Saving Model\n",
        "Pkl_Filename = prefix+\"UnivEnc_RandFor_Model.pkl\"  \n",
        "\n",
        "with open(Pkl_Filename, 'wb') as file:  \n",
        "    pickle.dump(reg, file)"
      ],
      "execution_count": 80,
      "outputs": []
    },
    {
      "cell_type": "code",
      "metadata": {
        "id": "3RrlVSqXR3zT",
        "colab_type": "code",
        "colab": {
          "base_uri": "https://localhost:8080/",
          "height": 51
        },
        "outputId": "e157d02f-4c56-41ca-ca4f-a62dddc6a641"
      },
      "source": [
        "#Confusion matrix\n",
        "labels_test_pred = reg.predict(vectorData_test)\n",
        "cm_rf = confusion_matrix(labels_test, labels_test_pred)\n",
        "print(\"Accuracy for Duplicates: \" + str(100*cm_rf[0,0]/(cm_rf[0,0]+cm_rf[0,1])) + \"%\")\n",
        "print(\"Accuracy for not Duplicates: \" + str(100*cm_rf[1,1]/(cm_rf[1,0]+cm_rf[1,1])) + \"%\")"
      ],
      "execution_count": 88,
      "outputs": [
        {
          "output_type": "stream",
          "text": [
            "Accuracy for Duplicates: 82.29756681292382%\n",
            "Accuracy for not Duplicates: 73.61010830324909%\n"
          ],
          "name": "stdout"
        }
      ]
    },
    {
      "cell_type": "code",
      "metadata": {
        "id": "b72tKzjW1Sdf",
        "colab_type": "code",
        "colab": {
          "base_uri": "https://localhost:8080/",
          "height": 419
        },
        "outputId": "6888c719-2635-4444-ae13-5626484a9b12"
      },
      "source": [
        "#Saving test data results\n",
        "df = pd.DataFrame(test_data[:,0], columns=[\"Q1\"])\n",
        "df[\"Q2\"] = test_data[:,1]\n",
        "df[\"Vector\"] = vectorData_test.tolist()\n",
        "df[\"actual\"] = labels_test\n",
        "df[\"pred\"] = labels_test_pred\n",
        "\n",
        "df.to_csv(prefix + 'UnivEnc_RandForest.csv')\n",
        "df.head(-5)"
      ],
      "execution_count": 83,
      "outputs": [
        {
          "output_type": "execute_result",
          "data": {
            "text/html": [
              "<div>\n",
              "<style scoped>\n",
              "    .dataframe tbody tr th:only-of-type {\n",
              "        vertical-align: middle;\n",
              "    }\n",
              "\n",
              "    .dataframe tbody tr th {\n",
              "        vertical-align: top;\n",
              "    }\n",
              "\n",
              "    .dataframe thead th {\n",
              "        text-align: right;\n",
              "    }\n",
              "</style>\n",
              "<table border=\"1\" class=\"dataframe\">\n",
              "  <thead>\n",
              "    <tr style=\"text-align: right;\">\n",
              "      <th></th>\n",
              "      <th>Q1</th>\n",
              "      <th>Q2</th>\n",
              "      <th>Vector</th>\n",
              "      <th>actual</th>\n",
              "      <th>pred</th>\n",
              "    </tr>\n",
              "  </thead>\n",
              "  <tbody>\n",
              "    <tr>\n",
              "      <th>0</th>\n",
              "      <td>Can I earn money online?</td>\n",
              "      <td>What is the easiest way to make a little money...</td>\n",
              "      <td>[-0.06412064284086227, -0.07820030301809311, -...</td>\n",
              "      <td>1.0</td>\n",
              "      <td>1.0</td>\n",
              "    </tr>\n",
              "    <tr>\n",
              "      <th>1</th>\n",
              "      <td>Do you think the passing of the GST bill propo...</td>\n",
              "      <td>How is GST beneficial for a common man?</td>\n",
              "      <td>[0.02641914412379265, -0.07629140466451645, 0....</td>\n",
              "      <td>1.0</td>\n",
              "      <td>1.0</td>\n",
              "    </tr>\n",
              "    <tr>\n",
              "      <th>2</th>\n",
              "      <td>Which authors book do I buy to learn about bod...</td>\n",
              "      <td>Which is the best interesting book to know abo...</td>\n",
              "      <td>[0.05446075648069382, -0.0208369679749012, 0.0...</td>\n",
              "      <td>1.0</td>\n",
              "      <td>-1.0</td>\n",
              "    </tr>\n",
              "    <tr>\n",
              "      <th>3</th>\n",
              "      <td>What is bitmasking? What kind of problems can ...</td>\n",
              "      <td>How do I use IT to solve problems of corruption?</td>\n",
              "      <td>[0.007975328713655472, -0.07790495455265045, -...</td>\n",
              "      <td>-1.0</td>\n",
              "      <td>-1.0</td>\n",
              "    </tr>\n",
              "    <tr>\n",
              "      <th>4</th>\n",
              "      <td>Can women who are bisexual realistically marry...</td>\n",
              "      <td>What gender of people do trans women marry?</td>\n",
              "      <td>[0.02759035862982273, -0.06169082969427109, 0....</td>\n",
              "      <td>-1.0</td>\n",
              "      <td>-1.0</td>\n",
              "    </tr>\n",
              "    <tr>\n",
              "      <th>...</th>\n",
              "      <td>...</td>\n",
              "      <td>...</td>\n",
              "      <td>...</td>\n",
              "      <td>...</td>\n",
              "      <td>...</td>\n",
              "    </tr>\n",
              "    <tr>\n",
              "      <th>49990</th>\n",
              "      <td>How does CodeIgniter compare to Laravel?</td>\n",
              "      <td>How does CodeIgniter compare to CakePHP?</td>\n",
              "      <td>[-0.005074884742498398, -0.051356393843889236,...</td>\n",
              "      <td>-1.0</td>\n",
              "      <td>-1.0</td>\n",
              "    </tr>\n",
              "    <tr>\n",
              "      <th>49991</th>\n",
              "      <td>Where can I get an expert painter in Brisbane?</td>\n",
              "      <td>Where can I found expert teams of interior res...</td>\n",
              "      <td>[-0.020382607355713844, 0.01232385914772749, 0...</td>\n",
              "      <td>-1.0</td>\n",
              "      <td>-1.0</td>\n",
              "    </tr>\n",
              "    <tr>\n",
              "      <th>49992</th>\n",
              "      <td>Who needs dog training?</td>\n",
              "      <td>How are assistance dogs trained?</td>\n",
              "      <td>[0.05044051632285118, -0.06690870225429535, -0...</td>\n",
              "      <td>-1.0</td>\n",
              "      <td>-1.0</td>\n",
              "    </tr>\n",
              "    <tr>\n",
              "      <th>49993</th>\n",
              "      <td>What are the Alto California Missions?</td>\n",
              "      <td>Is it okay to drink Palo Alto tap water?</td>\n",
              "      <td>[-0.06566717475652695, -0.06124785915017128, 0...</td>\n",
              "      <td>-1.0</td>\n",
              "      <td>-1.0</td>\n",
              "    </tr>\n",
              "    <tr>\n",
              "      <th>49994</th>\n",
              "      <td>What font is used for this “confluence” graphic?</td>\n",
              "      <td>What font is used for this “Ella” graphic?</td>\n",
              "      <td>[-0.018153591081500053, -0.019521154463291168,...</td>\n",
              "      <td>-1.0</td>\n",
              "      <td>-1.0</td>\n",
              "    </tr>\n",
              "  </tbody>\n",
              "</table>\n",
              "<p>49995 rows × 5 columns</p>\n",
              "</div>"
            ],
            "text/plain": [
              "                                                      Q1  ... pred\n",
              "0                               Can I earn money online?  ...  1.0\n",
              "1      Do you think the passing of the GST bill propo...  ...  1.0\n",
              "2      Which authors book do I buy to learn about bod...  ... -1.0\n",
              "3      What is bitmasking? What kind of problems can ...  ... -1.0\n",
              "4      Can women who are bisexual realistically marry...  ... -1.0\n",
              "...                                                  ...  ...  ...\n",
              "49990           How does CodeIgniter compare to Laravel?  ... -1.0\n",
              "49991     Where can I get an expert painter in Brisbane?  ... -1.0\n",
              "49992                            Who needs dog training?  ... -1.0\n",
              "49993             What are the Alto California Missions?  ... -1.0\n",
              "49994   What font is used for this “confluence” graphic?  ... -1.0\n",
              "\n",
              "[49995 rows x 5 columns]"
            ]
          },
          "metadata": {
            "tags": []
          },
          "execution_count": 83
        }
      ]
    }
  ]
}